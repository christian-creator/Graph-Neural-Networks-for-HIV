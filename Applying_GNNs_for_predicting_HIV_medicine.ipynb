{
  "cells": [
    {
      "cell_type": "markdown",
      "metadata": {
        "id": "BJMWIIbSS8sE"
      },
      "source": [
        "# Installing dependencies"
      ]
    },
    {
      "cell_type": "code",
      "execution_count": 1,
      "metadata": {
        "colab": {
          "base_uri": "https://localhost:8080/"
        },
        "id": "I64tyOyGQ3ym",
        "outputId": "f7fc3c32-4826-47c1-a683-fbc5ea223cbe"
      },
      "outputs": [
        {
          "output_type": "stream",
          "name": "stdout",
          "text": [
            "\u001b[33mWARNING: Running pip as the 'root' user can result in broken permissions and conflicting behaviour with the system package manager. It is recommended to use a virtual environment instead: https://pip.pypa.io/warnings/venv\u001b[0m\u001b[33m\n",
            "\u001b[0m✨🍰✨ Everything looks OK!\n"
          ]
        }
      ],
      "source": [
        "# We will use conda for easier installation of PyG\n",
        "# If only using pip, it somehow takes forever to install on colab \n",
        "!pip install -q condacolab\n",
        "import condacolab\n",
        "condacolab.install()"
      ]
    },
    {
      "cell_type": "code",
      "source": [
        "# Install torch geometric for point-cloud layers\n",
        "import torch\n",
        "version = f\"https://data.pyg.org/whl/torch-{torch.__version__}.html\"\n",
        "try: \n",
        "    import torch_geometric\n",
        "except:\n",
        "    !echo $version\n",
        "    !pip install torch-scatter torch-sparse torch-cluster torch-spline-conv torch-geometric -f $version\n",
        "    import torch_geometric\n",
        "!pip install rdkit"
      ],
      "metadata": {
        "colab": {
          "base_uri": "https://localhost:8080/",
          "height": 1000
        },
        "id": "z10XoDKdFHFk",
        "outputId": "070f5fda-1bcb-4ed4-8c5d-9998050f9597"
      },
      "execution_count": 2,
      "outputs": [
        {
          "output_type": "stream",
          "name": "stdout",
          "text": [
            "https://data.pyg.org/whl/torch-1.13.0+cu116.html\n",
            "Looking in indexes: https://pypi.org/simple, https://us-python.pkg.dev/colab-wheels/public/simple/\n",
            "Looking in links: https://data.pyg.org/whl/torch-1.13.0+cu116.html\n",
            "Collecting torch-scatter\n",
            "  Downloading https://data.pyg.org/whl/torch-1.13.0%2Bcu116/torch_scatter-2.1.0%2Bpt113cu116-cp38-cp38-linux_x86_64.whl (9.4 MB)\n",
            "\u001b[2K     \u001b[90m━━━━━━━━━━━━━━━━━━━━━━━━━━━━━━━━━━━━━━━━\u001b[0m \u001b[32m9.4/9.4 MB\u001b[0m \u001b[31m67.5 MB/s\u001b[0m eta \u001b[36m0:00:00\u001b[0m\n",
            "\u001b[?25hCollecting torch-sparse\n",
            "  Downloading https://data.pyg.org/whl/torch-1.13.0%2Bcu116/torch_sparse-0.6.16%2Bpt113cu116-cp38-cp38-linux_x86_64.whl (4.5 MB)\n",
            "\u001b[2K     \u001b[90m━━━━━━━━━━━━━━━━━━━━━━━━━━━━━━━━━━━━━━━━\u001b[0m \u001b[32m4.5/4.5 MB\u001b[0m \u001b[31m58.5 MB/s\u001b[0m eta \u001b[36m0:00:00\u001b[0m\n",
            "\u001b[?25hCollecting torch-cluster\n",
            "  Downloading https://data.pyg.org/whl/torch-1.13.0%2Bcu116/torch_cluster-1.6.0%2Bpt113cu116-cp38-cp38-linux_x86_64.whl (3.2 MB)\n",
            "\u001b[2K     \u001b[90m━━━━━━━━━━━━━━━━━━━━━━━━━━━━━━━━━━━━━━━━\u001b[0m \u001b[32m3.2/3.2 MB\u001b[0m \u001b[31m76.1 MB/s\u001b[0m eta \u001b[36m0:00:00\u001b[0m\n",
            "\u001b[?25hCollecting torch-spline-conv\n",
            "  Downloading https://data.pyg.org/whl/torch-1.13.0%2Bcu116/torch_spline_conv-1.2.1%2Bpt113cu116-cp38-cp38-linux_x86_64.whl (873 kB)\n",
            "\u001b[2K     \u001b[90m━━━━━━━━━━━━━━━━━━━━━━━━━━━━━━━━━━━━━━\u001b[0m \u001b[32m873.9/873.9 kB\u001b[0m \u001b[31m46.7 MB/s\u001b[0m eta \u001b[36m0:00:00\u001b[0m\n",
            "\u001b[?25hCollecting torch-geometric\n",
            "  Downloading torch_geometric-2.2.0.tar.gz (564 kB)\n",
            "\u001b[2K     \u001b[90m━━━━━━━━━━━━━━━━━━━━━━━━━━━━━━━━━━━━━━\u001b[0m \u001b[32m565.0/565.0 kB\u001b[0m \u001b[31m11.4 MB/s\u001b[0m eta \u001b[36m0:00:00\u001b[0m\n",
            "\u001b[?25h  Preparing metadata (setup.py) ... \u001b[?25l\u001b[?25hdone\n",
            "Collecting scipy\n",
            "  Downloading scipy-1.9.3-cp38-cp38-manylinux_2_17_x86_64.manylinux2014_x86_64.whl (33.8 MB)\n",
            "\u001b[2K     \u001b[90m━━━━━━━━━━━━━━━━━━━━━━━━━━━━━━━━━━━━━━━━\u001b[0m \u001b[32m33.8/33.8 MB\u001b[0m \u001b[31m15.5 MB/s\u001b[0m eta \u001b[36m0:00:00\u001b[0m\n",
            "\u001b[?25hCollecting tqdm\n",
            "  Downloading tqdm-4.64.1-py2.py3-none-any.whl (78 kB)\n",
            "\u001b[2K     \u001b[90m━━━━━━━━━━━━━━━━━━━━━━━━━━━━━━━━━━━━━━━━\u001b[0m \u001b[32m78.5/78.5 kB\u001b[0m \u001b[31m11.4 MB/s\u001b[0m eta \u001b[36m0:00:00\u001b[0m\n",
            "\u001b[?25hCollecting numpy\n",
            "  Downloading numpy-1.24.1-cp38-cp38-manylinux_2_17_x86_64.manylinux2014_x86_64.whl (17.3 MB)\n",
            "\u001b[2K     \u001b[90m━━━━━━━━━━━━━━━━━━━━━━━━━━━━━━━━━━━━━━━━\u001b[0m \u001b[32m17.3/17.3 MB\u001b[0m \u001b[31m94.0 MB/s\u001b[0m eta \u001b[36m0:00:00\u001b[0m\n",
            "\u001b[?25hCollecting jinja2\n",
            "  Downloading Jinja2-3.1.2-py3-none-any.whl (133 kB)\n",
            "\u001b[2K     \u001b[90m━━━━━━━━━━━━━━━━━━━━━━━━━━━━━━━━━━━━━━\u001b[0m \u001b[32m133.1/133.1 kB\u001b[0m \u001b[31m20.1 MB/s\u001b[0m eta \u001b[36m0:00:00\u001b[0m\n",
            "\u001b[?25hRequirement already satisfied: requests in /usr/local/lib/python3.8/site-packages (from torch-geometric) (2.28.1)\n",
            "Collecting pyparsing\n",
            "  Downloading pyparsing-3.0.9-py3-none-any.whl (98 kB)\n",
            "\u001b[2K     \u001b[90m━━━━━━━━━━━━━━━━━━━━━━━━━━━━━━━━━━━━━━━━\u001b[0m \u001b[32m98.3/98.3 kB\u001b[0m \u001b[31m14.9 MB/s\u001b[0m eta \u001b[36m0:00:00\u001b[0m\n",
            "\u001b[?25hCollecting scikit-learn\n",
            "  Downloading scikit_learn-1.2.0-cp38-cp38-manylinux_2_17_x86_64.manylinux2014_x86_64.whl (9.7 MB)\n",
            "\u001b[2K     \u001b[90m━━━━━━━━━━━━━━━━━━━━━━━━━━━━━━━━━━━━━━━━\u001b[0m \u001b[32m9.7/9.7 MB\u001b[0m \u001b[31m42.4 MB/s\u001b[0m eta \u001b[36m0:00:00\u001b[0m\n",
            "\u001b[?25hCollecting psutil>=5.8.0\n",
            "  Downloading psutil-5.9.4-cp36-abi3-manylinux_2_12_x86_64.manylinux2010_x86_64.manylinux_2_17_x86_64.manylinux2014_x86_64.whl (280 kB)\n",
            "\u001b[2K     \u001b[90m━━━━━━━━━━━━━━━━━━━━━━━━━━━━━━━━━━━━━━\u001b[0m \u001b[32m280.2/280.2 kB\u001b[0m \u001b[31m35.5 MB/s\u001b[0m eta \u001b[36m0:00:00\u001b[0m\n",
            "\u001b[?25hCollecting MarkupSafe>=2.0\n",
            "  Downloading MarkupSafe-2.1.1-cp38-cp38-manylinux_2_17_x86_64.manylinux2014_x86_64.whl (25 kB)\n",
            "Requirement already satisfied: charset-normalizer<3,>=2 in /usr/local/lib/python3.8/site-packages (from requests->torch-geometric) (2.1.1)\n",
            "Requirement already satisfied: certifi>=2017.4.17 in /usr/local/lib/python3.8/site-packages (from requests->torch-geometric) (2022.9.24)\n",
            "Requirement already satisfied: idna<4,>=2.5 in /usr/local/lib/python3.8/site-packages (from requests->torch-geometric) (3.4)\n",
            "Requirement already satisfied: urllib3<1.27,>=1.21.1 in /usr/local/lib/python3.8/site-packages (from requests->torch-geometric) (1.26.13)\n",
            "Collecting joblib>=1.1.1\n",
            "  Downloading joblib-1.2.0-py3-none-any.whl (297 kB)\n",
            "\u001b[2K     \u001b[90m━━━━━━━━━━━━━━━━━━━━━━━━━━━━━━━━━━━━━━\u001b[0m \u001b[32m298.0/298.0 kB\u001b[0m \u001b[31m31.5 MB/s\u001b[0m eta \u001b[36m0:00:00\u001b[0m\n",
            "\u001b[?25hCollecting threadpoolctl>=2.0.0\n",
            "  Downloading threadpoolctl-3.1.0-py3-none-any.whl (14 kB)\n",
            "Building wheels for collected packages: torch-geometric\n",
            "  Building wheel for torch-geometric (setup.py) ... \u001b[?25l\u001b[?25hdone\n",
            "  Created wheel for torch-geometric: filename=torch_geometric-2.2.0-py3-none-any.whl size=773285 sha256=2447cbebe9022b9acff54997f4d869b54493034adf111c1dbf3d7c0b349db735\n",
            "  Stored in directory: /root/.cache/pip/wheels/b5/f0/b1/623215620977e23579933d227d42c0eb8db77489da26727c56\n",
            "Successfully built torch-geometric\n",
            "Installing collected packages: tqdm, torch-spline-conv, torch-scatter, threadpoolctl, pyparsing, psutil, numpy, MarkupSafe, joblib, scipy, jinja2, torch-sparse, torch-cluster, scikit-learn, torch-geometric\n",
            "Successfully installed MarkupSafe-2.1.1 jinja2-3.1.2 joblib-1.2.0 numpy-1.24.1 psutil-5.9.4 pyparsing-3.0.9 scikit-learn-1.2.0 scipy-1.9.3 threadpoolctl-3.1.0 torch-cluster-1.6.0+pt113cu116 torch-geometric-2.2.0 torch-scatter-2.1.0+pt113cu116 torch-sparse-0.6.16+pt113cu116 torch-spline-conv-1.2.1+pt113cu116 tqdm-4.64.1\n",
            "\u001b[33mWARNING: Running pip as the 'root' user can result in broken permissions and conflicting behaviour with the system package manager. It is recommended to use a virtual environment instead: https://pip.pypa.io/warnings/venv\u001b[0m\u001b[33m\n",
            "\u001b[0m"
          ]
        },
        {
          "output_type": "display_data",
          "data": {
            "application/vnd.colab-display-data+json": {
              "pip_warning": {
                "packages": [
                  "tqdm"
                ]
              }
            }
          },
          "metadata": {}
        },
        {
          "output_type": "stream",
          "name": "stdout",
          "text": [
            "Looking in indexes: https://pypi.org/simple, https://us-python.pkg.dev/colab-wheels/public/simple/\n",
            "Collecting rdkit\n",
            "  Downloading rdkit-2022.9.3-cp38-cp38-manylinux_2_17_x86_64.manylinux2014_x86_64.whl (29.3 MB)\n",
            "\u001b[2K     \u001b[90m━━━━━━━━━━━━━━━━━━━━━━━━━━━━━━━━━━━━━━━━\u001b[0m \u001b[32m29.3/29.3 MB\u001b[0m \u001b[31m19.3 MB/s\u001b[0m eta \u001b[36m0:00:00\u001b[0m\n",
            "\u001b[?25hRequirement already satisfied: numpy in /usr/local/lib/python3.8/site-packages (from rdkit) (1.24.1)\n",
            "Collecting Pillow\n",
            "  Downloading Pillow-9.3.0-cp38-cp38-manylinux_2_17_x86_64.manylinux2014_x86_64.whl (3.2 MB)\n",
            "\u001b[2K     \u001b[90m━━━━━━━━━━━━━━━━━━━━━━━━━━━━━━━━━━━━━━━━\u001b[0m \u001b[32m3.2/3.2 MB\u001b[0m \u001b[31m98.7 MB/s\u001b[0m eta \u001b[36m0:00:00\u001b[0m\n",
            "\u001b[?25hInstalling collected packages: Pillow, rdkit\n",
            "Successfully installed Pillow-9.3.0 rdkit-2022.9.3\n",
            "\u001b[33mWARNING: Running pip as the 'root' user can result in broken permissions and conflicting behaviour with the system package manager. It is recommended to use a virtual environment instead: https://pip.pypa.io/warnings/venv\u001b[0m\u001b[33m\n",
            "\u001b[0m"
          ]
        }
      ]
    },
    {
      "cell_type": "markdown",
      "metadata": {
        "id": "qLqy2WbQTAxz"
      },
      "source": [
        "# Importing the dataset"
      ]
    },
    {
      "cell_type": "code",
      "execution_count": 3,
      "metadata": {
        "id": "OTO3SSFaQqew"
      },
      "outputs": [],
      "source": [
        "import torch\n",
        "import rdkit\n",
        "from torch_geometric.data import Data\n",
        "from torch_geometric.datasets import MoleculeNet\n",
        "import pandas as pd\n",
        "import numpy as np\n",
        "import matplotlib.pyplot as plt\n",
        "import seaborn as sns\n",
        "from torch_geometric.transforms import NormalizeScale,Distance,NormalizeFeatures\n",
        "import random\n",
        "import seaborn as sns\n",
        "import sklearn.metrics as metrics"
      ]
    },
    {
      "cell_type": "code",
      "execution_count": 4,
      "metadata": {
        "id": "QOWitZ5kRMyU",
        "colab": {
          "base_uri": "https://localhost:8080/"
        },
        "outputId": "1e8d230e-4aed-452f-ef77-581284a3bfc4"
      },
      "outputs": [
        {
          "output_type": "stream",
          "name": "stderr",
          "text": [
            "Downloading https://deepchemdata.s3-us-west-1.amazonaws.com/datasets/HIV.csv\n",
            "Processing...\n",
            "Done!\n"
          ]
        }
      ],
      "source": [
        "dataset = MoleculeNet(root=\"./\",name=\"HIV\")"
      ]
    },
    {
      "cell_type": "markdown",
      "source": [
        "# What does the dataset look like?"
      ],
      "metadata": {
        "id": "p3Xw85ArO1HS"
      }
    },
    {
      "cell_type": "code",
      "execution_count": 5,
      "metadata": {
        "colab": {
          "base_uri": "https://localhost:8080/"
        },
        "id": "RT2eejDpSmhL",
        "outputId": "b0a9ebb3-eab7-42d7-a13a-878cb414e644"
      },
      "outputs": [
        {
          "output_type": "stream",
          "name": "stdout",
          "text": [
            "Dataset features:  9\n",
            "Dataset target:  2\n",
            "Dataset length:  41127\n",
            "Dataset sample:  Data(x=[19, 9], edge_index=[2, 40], edge_attr=[40, 3], smiles='CCC1=[O+][Cu-3]2([O+]=C(CC)C1)[O+]=C(CC)CC(CC)=[O+]2', y=[1, 1])\n",
            "Sample  nodes:  19\n",
            "Sample  edges:  40\n"
          ]
        }
      ],
      "source": [
        "print(\"Dataset features: \", dataset.num_features)\n",
        "print(\"Dataset target: \", dataset.num_classes)\n",
        "print(\"Dataset length: \", len(dataset))\n",
        "print(\"Dataset sample: \", dataset[0])\n",
        "print(\"Sample  nodes: \", dataset[0].num_nodes)\n",
        "print(\"Sample  edges: \", dataset[0].num_edges)"
      ]
    },
    {
      "cell_type": "code",
      "execution_count": 6,
      "metadata": {
        "colab": {
          "base_uri": "https://localhost:8080/",
          "height": 185
        },
        "id": "yqh6QW9rTD2Z",
        "outputId": "e7e01c30-c555-4c5b-8284-c6aac2194af4"
      },
      "outputs": [
        {
          "output_type": "stream",
          "name": "stdout",
          "text": [
            "CCC1=[O+][Cu-3]2([O+]=C(CC)C1)[O+]=C(CC)CC(CC)=[O+]2 tensor([[0.]])\n"
          ]
        },
        {
          "output_type": "execute_result",
          "data": {
            "text/plain": [
              "<rdkit.Chem.rdchem.Mol at 0x7f0e01b63270>"
            ],
            "image/png": "[encoded data removed]"
          },
          "metadata": {},
          "execution_count": 6
        }
      ],
      "source": [
        "from rdkit import Chem\n",
        "from rdkit.Chem.Draw import IPythonConsole\n",
        "molecule = Chem.MolFromSmiles(dataset[5][\"smiles\"])\n",
        "print(dataset[0][\"smiles\"],dataset[5].y)\n",
        "molecule"
      ]
    },
    {
      "cell_type": "code",
      "execution_count": 7,
      "metadata": {
        "colab": {
          "base_uri": "https://localhost:8080/",
          "height": 280
        },
        "id": "uXQnWn5pTUAQ",
        "outputId": "d2fab18f-0db9-4a2d-95cb-e8240b9f6d8f"
      },
      "outputs": [
        {
          "output_type": "display_data",
          "data": {
            "text/plain": [
              "<Figure size 432x288 with 1 Axes>"
            ],
            "image/png": "[encoded data removed]"
          },
          "metadata": {
            "needs_background": "light"
          }
        }
      ],
      "source": [
        "raw_data = pd.read_csv(\"/content/hiv/raw/HIV.csv\")\n",
        "sns.countplot(data=raw_data,x=\"HIV_active\")\n",
        "plt.show()\n"
      ]
    },
    {
      "cell_type": "code",
      "source": [
        "classes,counts = np.unique(raw_data[\"HIV_active\"],return_counts=True)\n",
        "print(classes,counts)\n",
        "print(counts[1]/counts[0])\n"
      ],
      "metadata": {
        "colab": {
          "base_uri": "https://localhost:8080/"
        },
        "id": "YsCNzgtUMSSz",
        "outputId": "54c6cbf1-608a-4014-8fd9-11df5e15fde4"
      },
      "execution_count": 8,
      "outputs": [
        {
          "output_type": "stream",
          "name": "stdout",
          "text": [
            "[0 1] [39684  1443]\n",
            "0.03636226186876323\n"
          ]
        }
      ]
    },
    {
      "cell_type": "markdown",
      "source": [
        "#Sub-sampling the dataset"
      ],
      "metadata": {
        "id": "xCKIdlgUOxkR"
      }
    },
    {
      "cell_type": "markdown",
      "source": [
        "Splitting into train and testing data"
      ],
      "metadata": {
        "id": "DtKQzFMKaWru"
      }
    },
    {
      "cell_type": "code",
      "source": [
        "random.seed(1)\n",
        "true_obs = [obs for obs in dataset if obs.y[0,0] == 1]\n",
        "false_obs = [obs for i,obs in enumerate(dataset) if obs.y[0,0] == 0]\n",
        "random.shuffle(true_obs)\n",
        "random.shuffle(false_obs)"
      ],
      "metadata": {
        "id": "CEf61yVQaclo"
      },
      "execution_count": 9,
      "outputs": []
    },
    {
      "cell_type": "markdown",
      "source": [
        "Down-sampling and UP-samling is required when using MSE loss as we are unable to weight the gradients with respect to the class. (With the std. library)"
      ],
      "metadata": {
        "id": "iGFtANoi6DAD"
      }
    },
    {
      "cell_type": "code",
      "source": [
        "from torch_geometric.data import DataLoader\n",
        "# Wrap data in a data loader\n",
        "NUM_GRAPHS_PER_BATCH = 256\n",
        "\n",
        "# Down-sampling\n",
        "sample_data = true_obs + false_obs[:1200]\n",
        "random.shuffle(sample_data)\n",
        "trainloader = DataLoader(sample_data[:int(len(sample_data)*0.9)],batch_size=NUM_GRAPHS_PER_BATCH, shuffle=True)\n",
        "testloader = DataLoader(sample_data[int(len(sample_data)*0.9):],batch_size=NUM_GRAPHS_PER_BATCH, shuffle=True)\n",
        "\n",
        "# Up-sampling\n",
        "# train_obs_true = true_obs[int(len(true_obs)*0.9):]\n",
        "# test_obs_true = true_obs[:int(len(true_obs)*0.9)]\n",
        "\n",
        "# train_obs_false = false_obs[int(len(true_obs)*0.9):]\n",
        "# test_obs_false = false_obs[:int(len(true_obs)*0.9)]\n",
        "\n",
        "# train = train_obs_true*int(len(train_obs_false)/len(train_obs_true)) + train_obs_false\n",
        "# test = test_obs_true*int(len(test_obs_false)/len(test_obs_true)) + test_obs_false\n",
        "# trainloader = DataLoader(train,batch_size=NUM_GRAPHS_PER_BATCH, shuffle=True)\n",
        "# testloader = DataLoader(test,batch_size=NUM_GRAPHS_PER_BATCH, shuffle=True)\n"
      ],
      "metadata": {
        "id": "TumElDIUOxPp"
      },
      "execution_count": 13,
      "outputs": []
    },
    {
      "cell_type": "markdown",
      "metadata": {
        "id": "OTa42R9iZ8hu"
      },
      "source": [
        "# Create model "
      ]
    },
    {
      "cell_type": "code",
      "execution_count": 15,
      "metadata": {
        "colab": {
          "base_uri": "https://localhost:8080/"
        },
        "id": "eTi6v4_IWpoa",
        "outputId": "4e75822a-7bef-4d31-df55-cdc2128adb61"
      },
      "outputs": [
        {
          "output_type": "stream",
          "name": "stdout",
          "text": [
            "GCN(\n",
            "  (initial_conv): GCNConv(9, 128)\n",
            "  (conv1): GCNConv(128, 128)\n",
            "  (conv2): GCNConv(128, 128)\n",
            "  (conv3): GCNConv(128, 128)\n",
            "  (conv4): GCNConv(128, 128)\n",
            "  (L1): Linear(in_features=256, out_features=128, bias=True)\n",
            "  (out): Linear(in_features=128, out_features=1, bias=True)\n",
            ")\n",
            "Number of parameters:  100353\n",
            "torch.Size([256, 1])\n"
          ]
        }
      ],
      "source": [
        "import torch\n",
        "from torch.nn import Linear\n",
        "import torch.nn.functional as F \n",
        "from torch_geometric.nn import GCNConv, TopKPooling, global_mean_pool\n",
        "from torch_geometric.nn import global_mean_pool as gap, global_max_pool as gmp\n",
        "import torch.nn as nn\n",
        "from torch.nn.functional import relu, elu, relu6, sigmoid, tanh, softmax\n",
        "embedding_size = 128\n",
        "\n",
        "class GCN(torch.nn.Module):\n",
        "    def __init__(self):\n",
        "        # Init parent\n",
        "        super(GCN, self).__init__()\n",
        "        torch.manual_seed(42)\n",
        "\n",
        "        # GCN layers\n",
        "        self.initial_conv = GCNConv(dataset.num_features, embedding_size)\n",
        "        self.conv1 = GCNConv(embedding_size, embedding_size)\n",
        "        self.conv2 = GCNConv(embedding_size, embedding_size)\n",
        "        self.conv3 = GCNConv(embedding_size, embedding_size)\n",
        "        self.conv4 = GCNConv(embedding_size, embedding_size)\n",
        "\n",
        "        # Output layer\n",
        "        self.L1 = Linear(embedding_size*2,int(embedding_size*2/2))\n",
        "        self.out = Linear(int(embedding_size*2/2), 1)\n",
        "\n",
        "    def forward(self, x, edge_index, batch_index):\n",
        "        # First Conv layer\n",
        "        hidden = self.initial_conv(x, edge_index)\n",
        "        hidden = torch.tanh(hidden)\n",
        "\n",
        "        # Other Conv layers\n",
        "        hidden = self.conv1(hidden, edge_index)\n",
        "        hidden = torch.tanh(hidden)\n",
        "        hidden = self.conv2(hidden, edge_index)\n",
        "        hidden = torch.tanh(hidden)\n",
        "        hidden = self.conv3(hidden, edge_index)\n",
        "        hidden = torch.tanh(hidden)\n",
        "        hidden = self.conv4(hidden, edge_index)\n",
        "        hidden = torch.tanh(hidden)\n",
        "          \n",
        "        # Global Pooling (stack different aggregations)\n",
        "        hidden = torch.cat([gmp(hidden, batch_index), \n",
        "                            gap(hidden, batch_index)], dim=1)\n",
        "\n",
        "        # Apply a final (linear) classifier.\n",
        "        out = self.L1(hidden)\n",
        "        out = torch.tanh(out)\n",
        "        out = self.out(out)\n",
        "        out = torch.sigmoid(out)\n",
        "        # out = softmax(out,dim=1)\n",
        "        return out, hidden\n",
        "\n",
        "model = GCN()\n",
        "print(model)\n",
        "print(\"Number of parameters: \", sum(p.numel() for p in model.parameters()))\n",
        "tmp_batch = list(trainloader)[0]\n",
        "test_output,test_hidden = model(tmp_batch.x.float(),tmp_batch.edge_index,tmp_batch.batch)\n",
        "print(test_output.shape)"
      ]
    },
    {
      "cell_type": "markdown",
      "source": [
        "# Training the model "
      ],
      "metadata": {
        "id": "LeWm2SUQrw9i"
      }
    },
    {
      "cell_type": "code",
      "source": [
        "from torch_geometric.data import DataLoader\n",
        "import warnings\n",
        "random.seed(0)\n",
        "np.random.seed(0)\n",
        "warnings.filterwarnings(\"ignore\")\n",
        "\n",
        "def validate(model,test_data):\n",
        "    # Analyze the results for one batch\n",
        "    all_ys = []\n",
        "    all_preds = []\n",
        "    model.eval()\n",
        "    for test_batch in test_data:\n",
        "        with torch.no_grad():\n",
        "            test_batch.to(device)\n",
        "            pred, embed = model(test_batch.x.float(), test_batch.edge_index, test_batch.batch) \n",
        "            df = pd.DataFrame()\n",
        "            all_ys += test_batch.y.tolist()\n",
        "            all_preds += pred.tolist()\n",
        "    all_ys = [x[0] for x in all_ys]\n",
        "    all_preds = [x[0] for x in all_preds]\n",
        "    fpr, tpr, threshold = metrics.roc_curve(all_ys, all_preds)\n",
        "    roc_auc = metrics.auc(fpr, tpr)\n",
        "    return 1-roc_auc,all_preds,all_ys\n",
        "\n",
        "def validate_binary(model,test_data):\n",
        "    # Analyze the results for one batch\n",
        "    all_ys = []\n",
        "    all_preds = []\n",
        "    model.eval()\n",
        "    for test_batch in test_data:\n",
        "        with torch.no_grad():\n",
        "            test_batch.to(device)\n",
        "            pred, embed = model(test_batch.x.float(), test_batch.edge_index, test_batch.batch)\n",
        "            pred = torch.argmax(pred,1)\n",
        "            df = pd.DataFrame()\n",
        "            all_ys += test_batch.y.tolist()\n",
        "            all_preds += pred.tolist()\n",
        "    all_ys = [x[0] for x in all_ys]\n",
        "    all_preds = [x for x in all_preds]\n",
        "\n",
        "    f1 = metrics.f1_score(all_ys, all_preds)\n",
        "    return 1-f1,all_preds,all_ys\n",
        "\n",
        "\n",
        "\n",
        "def train(model,N,train_data,val_data):\n",
        "    # Early stopping\n",
        "    the_last_loss = 100\n",
        "    patience = 100\n",
        "    trigger_times = 0\n",
        "    val_losses = []\n",
        "    train_losses = []\n",
        "\n",
        "    # Enumerate over the data\n",
        "    for epoch in range(N):\n",
        "        model.train()\n",
        "        current_loss = 0\n",
        "\n",
        "        for batch in train_data:\n",
        "            # Use GPU\n",
        "            batch.to(device)  \n",
        "            # Reset gradients\n",
        "            optimizer.zero_grad() \n",
        "            # Passing the node features and the connection info\n",
        "            pred, embedding = model(batch.x.float(), batch.edge_index, batch.batch) \n",
        "            # Calculating the loss and gradients\n",
        "            # Binary cross entropy optimizer\n",
        "            # loss = loss_fn(pred, F.one_hot(torch.reshape(batch.y, (-1,)).long(),num_classes=2).float())\n",
        "            # MSE loss optimizer\n",
        "            loss = loss_fn(pred, batch.y)\n",
        "            loss.backward()\n",
        "            \n",
        "            # Update using the gradients\n",
        "            optimizer.step()\n",
        "\n",
        "            # Save loss\n",
        "            current_loss += loss.item()\n",
        "        train_losses.append(current_loss/len((train_data)))\n",
        "        \n",
        "        # Early stopping\n",
        "        validation_loss,val_predictions,val_ys = validate(model,val_data)\n",
        "        val_losses.append(validation_loss)\n",
        "        the_current_val_loss = val_losses[-1]\n",
        "\n",
        "        if epoch % 10 == 0:\n",
        "            print(f\"Epoch: {epoch} Train loss: {train_losses[-1]} Val loss: {val_losses[-1]}\")\n",
        "\n",
        "        the_last_val_loss = 0 if len(val_losses) < 2 else val_losses[-2]\n",
        "        \n",
        "        if the_current_val_loss > the_last_val_loss:\n",
        "            trigger_times += 1\n",
        "\n",
        "            if trigger_times >= patience:\n",
        "                print('Early stopping at epoch',epoch,\" with patience\",patience)\n",
        "                return model,train_losses,val_predictions,val_ys\n",
        "\n",
        "        else:\n",
        "            trigger_times = 0\n",
        "\n",
        "    return model,train_losses,val_predictions,val_ys\n",
        "\n",
        "\n",
        "device = torch.device(\"cuda:0\" if torch.cuda.is_available() else \"cpu\")\n",
        "\n",
        "# Root mean squared error\n",
        "loss_fn = torch.nn.MSELoss()\n",
        "# Binary cross entropy\n",
        "# weight = torch.tensor([1,1], dtype=torch.float32).to(device)\n",
        "# loss_fn = torch.nn.BCEWithLogitsLoss(pos_weight=weight)\n",
        "\n",
        "optimizer = torch.optim.Adam(model.parameters(), lr=0.00007)  \n",
        "\n",
        "# Use GPU for training\n",
        "model = model.to(device)\n",
        "\n",
        "print(\"Starting training...\")\n",
        "\n",
        "model,train_losses,val_predictions,val_ys = train(model,201,trainloader,testloader)"
      ],
      "metadata": {
        "colab": {
          "base_uri": "https://localhost:8080/"
        },
        "id": "AjofW4vxDedv",
        "outputId": "c8038154-f8b5-4c45-a991-711abb7cc589"
      },
      "execution_count": 20,
      "outputs": [
        {
          "output_type": "stream",
          "name": "stdout",
          "text": [
            "Starting training...\n",
            "Epoch: 0 Train loss: 0.21480371952056884 Val loss: 0.300679175779901\n",
            "Epoch: 10 Train loss: 0.21539256423711778 Val loss: 0.29958558765972143\n",
            "Epoch: 20 Train loss: 0.210844986140728 Val loss: 0.30188787843904685\n",
            "Epoch: 30 Train loss: 0.2124615415930748 Val loss: 0.3000460458155866\n",
            "Epoch: 40 Train loss: 0.20913914889097213 Val loss: 0.30188787843904674\n",
            "Epoch: 50 Train loss: 0.2089453637599945 Val loss: 0.29762864049729476\n",
            "Epoch: 60 Train loss: 0.20876538753509521 Val loss: 0.2975135259583285\n",
            "Epoch: 70 Train loss: 0.2100837916135788 Val loss: 0.2987797858869575\n",
            "Epoch: 80 Train loss: 0.20697581619024277 Val loss: 0.29624726602969953\n",
            "Epoch: 90 Train loss: 0.20605372935533522 Val loss: 0.295614136065385\n",
            "Epoch: 100 Train loss: 0.20379554331302643 Val loss: 0.2941752043283067\n",
            "Epoch: 110 Train loss: 0.20568704903125762 Val loss: 0.29423276159778966\n",
            "Epoch: 120 Train loss: 0.20305395126342773 Val loss: 0.2917002417405318\n",
            "Epoch: 130 Train loss: 0.1982750862836838 Val loss: 0.2899735236560378\n",
            "Epoch: 140 Train loss: 0.1994637966156006 Val loss: 0.2912397835846666\n",
            "Epoch: 150 Train loss: 0.19804663211107254 Val loss: 0.29198802808794744\n",
            "Epoch: 160 Train loss: 0.19612869769334793 Val loss: 0.2882468055715437\n",
            "Epoch: 170 Train loss: 0.19656341522932053 Val loss: 0.28715321745136413\n",
            "Epoch: 180 Train loss: 0.19474777579307556 Val loss: 0.28628985840911714\n",
            "Epoch: 190 Train loss: 0.1928056299686432 Val loss: 0.28525382755842066\n",
            "Epoch: 200 Train loss: 0.19169968068599702 Val loss: 0.28116726142511794\n"
          ]
        }
      ]
    },
    {
      "cell_type": "code",
      "source": [
        "plt.plot(train_losses)\n",
        "plt.grid()\n",
        "plt.show()"
      ],
      "metadata": {
        "colab": {
          "base_uri": "https://localhost:8080/",
          "height": 265
        },
        "id": "uAinnn7gm7TN",
        "outputId": "eb148621-1b0b-46cb-953f-010313d73eb7"
      },
      "execution_count": 17,
      "outputs": [
        {
          "output_type": "display_data",
          "data": {
            "text/plain": [
              "<Figure size 432x288 with 1 Axes>"
            ],
            "image/png": "[encoded data removed]"
          },
          "metadata": {
            "needs_background": "light"
          }
        }
      ]
    },
    {
      "cell_type": "markdown",
      "source": [
        "# Predictions on validation data"
      ],
      "metadata": {
        "id": "ayhA3zbEr3hf"
      }
    },
    {
      "cell_type": "markdown",
      "source": [
        "Optimized with BCEloss"
      ],
      "metadata": {
        "id": "bFLgG-aH4_c0"
      }
    },
    {
      "cell_type": "code",
      "source": [
        "# calculate the fpr and tpr for all thresholds of the classification\n",
        "matrix_confusion = metrics.confusion_matrix(val_ys, val_predictions)\n",
        "sns.heatmap(matrix_confusion, square=True, annot=True, cmap='Blues', fmt='d', cbar=False)\n",
        "plt.show()\n",
        "print(round(metrics.f1_score(val_ys, val_predictions),2))"
      ],
      "metadata": {
        "colab": {
          "base_uri": "https://localhost:8080/",
          "height": 389
        },
        "id": "z8JPbptx5B2U",
        "outputId": "d7619338-a50e-4458-d9a2-e0dadeb35c75"
      },
      "execution_count": 18,
      "outputs": [
        {
          "output_type": "error",
          "ename": "ValueError",
          "evalue": "ignored",
          "traceback": [
            "\u001b[0;31m---------------------------------------------------------------------------\u001b[0m",
            "\u001b[0;31mValueError\u001b[0m                                Traceback (most recent call last)",
            "\u001b[0;32m<ipython-input-18-511b3719c811>\u001b[0m in \u001b[0;36m<module>\u001b[0;34m\u001b[0m\n\u001b[1;32m      1\u001b[0m \u001b[0;31m# calculate the fpr and tpr for all thresholds of the classification\u001b[0m\u001b[0;34m\u001b[0m\u001b[0;34m\u001b[0m\u001b[0;34m\u001b[0m\u001b[0m\n\u001b[0;32m----> 2\u001b[0;31m \u001b[0mmatrix_confusion\u001b[0m \u001b[0;34m=\u001b[0m \u001b[0mmetrics\u001b[0m\u001b[0;34m.\u001b[0m\u001b[0mconfusion_matrix\u001b[0m\u001b[0;34m(\u001b[0m\u001b[0mval_ys\u001b[0m\u001b[0;34m,\u001b[0m \u001b[0mval_predictions\u001b[0m\u001b[0;34m)\u001b[0m\u001b[0;34m\u001b[0m\u001b[0;34m\u001b[0m\u001b[0m\n\u001b[0m\u001b[1;32m      3\u001b[0m \u001b[0msns\u001b[0m\u001b[0;34m.\u001b[0m\u001b[0mheatmap\u001b[0m\u001b[0;34m(\u001b[0m\u001b[0mmatrix_confusion\u001b[0m\u001b[0;34m,\u001b[0m \u001b[0msquare\u001b[0m\u001b[0;34m=\u001b[0m\u001b[0;32mTrue\u001b[0m\u001b[0;34m,\u001b[0m \u001b[0mannot\u001b[0m\u001b[0;34m=\u001b[0m\u001b[0;32mTrue\u001b[0m\u001b[0;34m,\u001b[0m \u001b[0mcmap\u001b[0m\u001b[0;34m=\u001b[0m\u001b[0;34m'Blues'\u001b[0m\u001b[0;34m,\u001b[0m \u001b[0mfmt\u001b[0m\u001b[0;34m=\u001b[0m\u001b[0;34m'd'\u001b[0m\u001b[0;34m,\u001b[0m \u001b[0mcbar\u001b[0m\u001b[0;34m=\u001b[0m\u001b[0;32mFalse\u001b[0m\u001b[0;34m)\u001b[0m\u001b[0;34m\u001b[0m\u001b[0;34m\u001b[0m\u001b[0m\n\u001b[1;32m      4\u001b[0m \u001b[0mplt\u001b[0m\u001b[0;34m.\u001b[0m\u001b[0mshow\u001b[0m\u001b[0;34m(\u001b[0m\u001b[0;34m)\u001b[0m\u001b[0;34m\u001b[0m\u001b[0;34m\u001b[0m\u001b[0m\n\u001b[1;32m      5\u001b[0m \u001b[0mprint\u001b[0m\u001b[0;34m(\u001b[0m\u001b[0mround\u001b[0m\u001b[0;34m(\u001b[0m\u001b[0mmetrics\u001b[0m\u001b[0;34m.\u001b[0m\u001b[0mf1_score\u001b[0m\u001b[0;34m(\u001b[0m\u001b[0mval_ys\u001b[0m\u001b[0;34m,\u001b[0m \u001b[0mval_predictions\u001b[0m\u001b[0;34m)\u001b[0m\u001b[0;34m,\u001b[0m\u001b[0;36m2\u001b[0m\u001b[0;34m)\u001b[0m\u001b[0;34m)\u001b[0m\u001b[0;34m\u001b[0m\u001b[0;34m\u001b[0m\u001b[0m\n",
            "\u001b[0;32m/usr/local/lib/python3.8/site-packages/sklearn/metrics/_classification.py\u001b[0m in \u001b[0;36mconfusion_matrix\u001b[0;34m(y_true, y_pred, labels, sample_weight, normalize)\u001b[0m\n\u001b[1;32m    315\u001b[0m     \u001b[0;34m(\u001b[0m\u001b[0;36m0\u001b[0m\u001b[0;34m,\u001b[0m \u001b[0;36m2\u001b[0m\u001b[0;34m,\u001b[0m \u001b[0;36m1\u001b[0m\u001b[0;34m,\u001b[0m \u001b[0;36m1\u001b[0m\u001b[0;34m)\u001b[0m\u001b[0;34m\u001b[0m\u001b[0;34m\u001b[0m\u001b[0m\n\u001b[1;32m    316\u001b[0m     \"\"\"\n\u001b[0;32m--> 317\u001b[0;31m     \u001b[0my_type\u001b[0m\u001b[0;34m,\u001b[0m \u001b[0my_true\u001b[0m\u001b[0;34m,\u001b[0m \u001b[0my_pred\u001b[0m \u001b[0;34m=\u001b[0m \u001b[0m_check_targets\u001b[0m\u001b[0;34m(\u001b[0m\u001b[0my_true\u001b[0m\u001b[0;34m,\u001b[0m \u001b[0my_pred\u001b[0m\u001b[0;34m)\u001b[0m\u001b[0;34m\u001b[0m\u001b[0;34m\u001b[0m\u001b[0m\n\u001b[0m\u001b[1;32m    318\u001b[0m     \u001b[0;32mif\u001b[0m \u001b[0my_type\u001b[0m \u001b[0;32mnot\u001b[0m \u001b[0;32min\u001b[0m \u001b[0;34m(\u001b[0m\u001b[0;34m\"binary\"\u001b[0m\u001b[0;34m,\u001b[0m \u001b[0;34m\"multiclass\"\u001b[0m\u001b[0;34m)\u001b[0m\u001b[0;34m:\u001b[0m\u001b[0;34m\u001b[0m\u001b[0;34m\u001b[0m\u001b[0m\n\u001b[1;32m    319\u001b[0m         \u001b[0;32mraise\u001b[0m \u001b[0mValueError\u001b[0m\u001b[0;34m(\u001b[0m\u001b[0;34m\"%s is not supported\"\u001b[0m \u001b[0;34m%\u001b[0m \u001b[0my_type\u001b[0m\u001b[0;34m)\u001b[0m\u001b[0;34m\u001b[0m\u001b[0;34m\u001b[0m\u001b[0m\n",
            "\u001b[0;32m/usr/local/lib/python3.8/site-packages/sklearn/metrics/_classification.py\u001b[0m in \u001b[0;36m_check_targets\u001b[0;34m(y_true, y_pred)\u001b[0m\n\u001b[1;32m     93\u001b[0m \u001b[0;34m\u001b[0m\u001b[0m\n\u001b[1;32m     94\u001b[0m     \u001b[0;32mif\u001b[0m \u001b[0mlen\u001b[0m\u001b[0;34m(\u001b[0m\u001b[0my_type\u001b[0m\u001b[0;34m)\u001b[0m \u001b[0;34m>\u001b[0m \u001b[0;36m1\u001b[0m\u001b[0;34m:\u001b[0m\u001b[0;34m\u001b[0m\u001b[0;34m\u001b[0m\u001b[0m\n\u001b[0;32m---> 95\u001b[0;31m         raise ValueError(\n\u001b[0m\u001b[1;32m     96\u001b[0m             \"Classification metrics can't handle a mix of {0} and {1} targets\".format(\n\u001b[1;32m     97\u001b[0m                 \u001b[0mtype_true\u001b[0m\u001b[0;34m,\u001b[0m \u001b[0mtype_pred\u001b[0m\u001b[0;34m\u001b[0m\u001b[0;34m\u001b[0m\u001b[0m\n",
            "\u001b[0;31mValueError\u001b[0m: Classification metrics can't handle a mix of binary and continuous targets"
          ]
        }
      ]
    },
    {
      "cell_type": "markdown",
      "source": [
        "Optimized with MSEloss"
      ],
      "metadata": {
        "id": "M8WR344b49BK"
      }
    },
    {
      "cell_type": "code",
      "source": [
        "import sklearn.metrics as metrics\n",
        "# calculate the fpr and tpr for all thresholds of the classification\n",
        "fpr, tpr, threshold = metrics.roc_curve(val_ys, val_predictions)\n",
        "roc_auc = metrics.auc(fpr, tpr)\n",
        "\n",
        "plt.title('Receiver Operating Characteristic')\n",
        "plt.plot(fpr, tpr, 'b', label = 'AUC = %0.2f' % roc_auc)\n",
        "plt.legend(loc = 'lower right')\n",
        "plt.plot([0, 1], [0, 1],'r--')\n",
        "plt.xlim([0, 1])\n",
        "plt.ylim([0, 1])\n",
        "plt.ylabel('True Positive Rate')\n",
        "plt.xlabel('False Positive Rate')\n",
        "plt.show()"
      ],
      "metadata": {
        "colab": {
          "base_uri": "https://localhost:8080/",
          "height": 295
        },
        "id": "IUO6vmVbLilY",
        "outputId": "fddc4841-6fab-4b66-d925-611e5337fa40"
      },
      "execution_count": 21,
      "outputs": [
        {
          "output_type": "display_data",
          "data": {
            "text/plain": [
              "<Figure size 432x288 with 1 Axes>"
            ],
            "image/png": "[encoded data removed]"
          },
          "metadata": {
            "needs_background": "light"
          }
        }
      ]
    }
  ],
  "metadata": {
    "colab": {
      "collapsed_sections": [
        "BJMWIIbSS8sE"
      ],
      "provenance": [],
      "authorship_tag": "ABX9TyOeLdJhUMZa+m0383L6edEO"
    },
    "kernelspec": {
      "display_name": "Python 3",
      "name": "python3"
    },
    "language_info": {
      "name": "python"
    },
    "accelerator": "GPU",
    "gpuClass": "standard"
  },
  "nbformat": 4,
  "nbformat_minor": 0
}